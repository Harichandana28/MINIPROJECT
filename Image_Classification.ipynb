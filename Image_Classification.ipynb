{
  "nbformat": 4,
  "nbformat_minor": 0,
  "metadata": {
    "colab": {
      "name": "Image Classification.ipynb",
      "provenance": [],
      "mount_file_id": "1ZnR0UkLXUDpKJWxYadi_qarppvsLfH_E",
      "authorship_tag": "ABX9TyNO2oT+bHxetgeczy9EE/rB",
      "include_colab_link": true
    },
    "kernelspec": {
      "name": "python3",
      "display_name": "Python 3"
    },
    "language_info": {
      "name": "python"
    }
  },
  "cells": [
    {
      "cell_type": "markdown",
      "metadata": {
        "id": "view-in-github",
        "colab_type": "text"
      },
      "source": [
        "<a href=\"https://colab.research.google.com/github/Harichandana28/MINIPROJECT/blob/main/Image_Classification.ipynb\" target=\"_parent\"><img src=\"https://colab.research.google.com/assets/colab-badge.svg\" alt=\"Open In Colab\"/></a>"
      ]
    },
    {
      "cell_type": "code",
      "metadata": {
        "id": "q6Z4uscF08R8"
      },
      "source": [
        "#Preprocessing\n",
        "import os\n",
        "import matplotlib.pyplot as plt\n",
        "import numpy as np\n",
        "from skimage.io import imread\n",
        "from skimage.transform import resize\n",
        " \n",
        "target=[]\n",
        "images=[]\n",
        "flat_data=[]\n",
        " \n",
        "DATADIR='/content/drive/MyDrive/IMAGES'\n",
        "CATEGORIES=['Rose','Lilly']\n",
        " \n",
        "for category in CATEGORIES:\n",
        "  class_num=CATEGORIES.index(category)\n",
        "  path=os.path.join(DATADIR,category)\n",
        "  for img in os.listdir(path):\n",
        "    img_array=imread(os.path.join(path,img))\n",
        "    img_resized=resize(img_array,(150,150,3))\n",
        "    flat_data.append(img_resized.flatten())\n",
        "    images.append(img_resized)\n",
        "    target.append(class_num)\n",
        " \n",
        "flat_data=np.array(flat_data)\n",
        "target=np.array(target)\n",
        "images=np.array(images)"
      ],
      "execution_count": null,
      "outputs": []
    },
    {
      "cell_type": "code",
      "metadata": {
        "colab": {
          "base_uri": "https://localhost:8080/"
        },
        "id": "EU22Pe337Xaw",
        "outputId": "a1d1582c-ec9e-48ff-c25c-840f340e0739"
      },
      "source": [
        "flat_data[0]"
      ],
      "execution_count": null,
      "outputs": [
        {
          "output_type": "execute_result",
          "data": {
            "text/plain": [
              "array([0.24077124, 0.4839085 , 0.1455817 , ..., 0.39607843, 0.49256209,\n",
              "       0.38898039])"
            ]
          },
          "metadata": {
            "tags": []
          },
          "execution_count": 2
        }
      ]
    },
    {
      "cell_type": "code",
      "metadata": {
        "colab": {
          "base_uri": "https://localhost:8080/"
        },
        "id": "PSLm5GsEBkl0",
        "outputId": "f64151e3-082f-40ec-eeb9-5838bae5cf09"
      },
      "source": [
        "target"
      ],
      "execution_count": null,
      "outputs": [
        {
          "output_type": "execute_result",
          "data": {
            "text/plain": [
              "array([0, 0, 0, 0, 0, 0, 0, 0, 0, 0, 0, 0, 0, 0, 0, 0, 0, 0, 0, 0, 0, 0,\n",
              "       0, 0, 0, 0, 0, 0, 0, 0, 1, 1, 1, 1, 1, 1, 1, 1, 1, 1, 1, 1, 1, 1,\n",
              "       1, 1, 1, 1, 1, 1, 1, 1, 1, 1, 1, 1, 1, 1, 1, 1])"
            ]
          },
          "metadata": {
            "tags": []
          },
          "execution_count": 3
        }
      ]
    },
    {
      "cell_type": "code",
      "metadata": {
        "colab": {
          "base_uri": "https://localhost:8080/",
          "height": 282
        },
        "id": "Ybrxt0vPB6tz",
        "outputId": "58d7479b-6b99-4aa1-db87-6379907a5d85"
      },
      "source": [
        "unique,count=np.unique(target,return_counts=True)\n",
        "plt.bar(CATEGORIES,count)"
      ],
      "execution_count": null,
      "outputs": [
        {
          "output_type": "execute_result",
          "data": {
            "text/plain": [
              "<BarContainer object of 2 artists>"
            ]
          },
          "metadata": {
            "tags": []
          },
          "execution_count": 4
        },
        {
          "output_type": "display_data",
          "data": {
            "image/png": "[encoded data removed]",
            "text/plain": [
              "<Figure size 432x288 with 1 Axes>"
            ]
          },
          "metadata": {
            "tags": [],
            "needs_background": "light"
          }
        }
      ]
    },
    {
      "cell_type": "code",
      "metadata": {
        "id": "S3jG85YLCTDo"
      },
      "source": [
        "from sklearn.model_selection import train_test_split\n",
        "x_train,x_test,y_train,y_test=train_test_split(flat_data,target,test_size=0.3,random_state=109)\n"
      ],
      "execution_count": null,
      "outputs": []
    },
    {
      "cell_type": "code",
      "metadata": {
        "id": "Eds7z8YrToG5"
      },
      "source": [
        "#normalization\n",
        "from sklearn.preprocessing import MinMaxScaler\n",
        "scaler= MinMaxScaler()\n",
        "x_train=scaler.fit_transform(x_train)\n",
        "x_test=scaler.transform(x_test)"
      ],
      "execution_count": null,
      "outputs": []
    },
    {
      "cell_type": "code",
      "metadata": {
        "colab": {
          "base_uri": "https://localhost:8080/"
        },
        "id": "xEeHlisFUrld",
        "outputId": "2c037498-640e-4684-8c79-63fc481d3503"
      },
      "source": [
        "from sklearn.svm import SVC\n",
        "model=SVC()\n",
        "model.fit(x_train,y_train)\n",
        "y_pred=model.predict(x_test)\n",
        "y_pred"
      ],
      "execution_count": null,
      "outputs": [
        {
          "output_type": "execute_result",
          "data": {
            "text/plain": [
              "array([0, 1, 0, 1, 1, 0, 1, 1, 0, 1, 1, 1, 1, 1, 1, 1, 1, 1])"
            ]
          },
          "metadata": {
            "tags": []
          },
          "execution_count": 7
        }
      ]
    },
    {
      "cell_type": "code",
      "metadata": {
        "colab": {
          "base_uri": "https://localhost:8080/"
        },
        "id": "gPgSLGleVHvC",
        "outputId": "f509702d-9055-453b-ae50-9929ac7b0d7e"
      },
      "source": [
        "y_test"
      ],
      "execution_count": null,
      "outputs": [
        {
          "output_type": "execute_result",
          "data": {
            "text/plain": [
              "array([0, 0, 0, 1, 0, 0, 1, 0, 0, 1, 1, 1, 1, 0, 1, 0, 0, 0])"
            ]
          },
          "metadata": {
            "tags": []
          },
          "execution_count": 8
        }
      ]
    },
    {
      "cell_type": "code",
      "metadata": {
        "id": "8KGf9FOvVPkM"
      },
      "source": [
        "from sklearn.metrics import accuracy_score,confusion_matrix,classification_report"
      ],
      "execution_count": null,
      "outputs": []
    },
    {
      "cell_type": "code",
      "metadata": {
        "colab": {
          "base_uri": "https://localhost:8080/"
        },
        "id": "_DSWG8yfVYgC",
        "outputId": "ae1d4e48-13d5-4931-b587-096e42ff41da"
      },
      "source": [
        "confusion_matrix(y_pred,y_test)"
      ],
      "execution_count": null,
      "outputs": [
        {
          "output_type": "execute_result",
          "data": {
            "text/plain": [
              "array([[4, 0],\n",
              "       [7, 7]])"
            ]
          },
          "metadata": {
            "tags": []
          },
          "execution_count": 10
        }
      ]
    },
    {
      "cell_type": "code",
      "metadata": {
        "colab": {
          "base_uri": "https://localhost:8080/"
        },
        "id": "VWTe6B8nVaFi",
        "outputId": "f8ffd8f4-2587-48ce-da96-4223c5f26763"
      },
      "source": [
        "accuracy_score(y_pred,y_test)"
      ],
      "execution_count": null,
      "outputs": [
        {
          "output_type": "execute_result",
          "data": {
            "text/plain": [
              "0.6111111111111112"
            ]
          },
          "metadata": {
            "tags": []
          },
          "execution_count": 11
        }
      ]
    },
    {
      "cell_type": "code",
      "metadata": {
        "colab": {
          "base_uri": "https://localhost:8080/"
        },
        "id": "wMWXngtTC5cv",
        "outputId": "a6b57cb6-cb23-43bc-b609-ddbaf1908a5d"
      },
      "source": [
        "from sklearn.model_selection import GridSearchCV\n",
        "from sklearn import svm\n",
        "param_grid=[\n",
        "            {'C':[0.1,1,10,100],'kernel':['linear','rbf']}\n",
        "]\n",
        "grid=GridSearchCV(SVC(),param_grid)\n",
        "grid.fit(x_train,y_train)"
      ],
      "execution_count": null,
      "outputs": [
        {
          "output_type": "execute_result",
          "data": {
            "text/plain": [
              "GridSearchCV(cv=None, error_score=nan,\n",
              "             estimator=SVC(C=1.0, break_ties=False, cache_size=200,\n",
              "                           class_weight=None, coef0=0.0,\n",
              "                           decision_function_shape='ovr', degree=3,\n",
              "                           gamma='scale', kernel='rbf', max_iter=-1,\n",
              "                           probability=False, random_state=None, shrinking=True,\n",
              "                           tol=0.001, verbose=False),\n",
              "             iid='deprecated', n_jobs=None,\n",
              "             param_grid=[{'C': [0.1, 1, 10, 100], 'kernel': ['linear', 'rbf']}],\n",
              "             pre_dispatch='2*n_jobs', refit=True, return_train_score=False,\n",
              "             scoring=None, verbose=0)"
            ]
          },
          "metadata": {
            "tags": []
          },
          "execution_count": 13
        }
      ]
    },
    {
      "cell_type": "code",
      "metadata": {
        "colab": {
          "base_uri": "https://localhost:8080/"
        },
        "id": "EULpYJ44VqkQ",
        "outputId": "bc1ce61c-de6f-4cd7-c85b-a036888db3bb"
      },
      "source": [
        "grid.best_params_"
      ],
      "execution_count": null,
      "outputs": [
        {
          "output_type": "execute_result",
          "data": {
            "text/plain": [
              "{'C': 1, 'kernel': 'rbf'}"
            ]
          },
          "metadata": {
            "tags": []
          },
          "execution_count": 14
        }
      ]
    },
    {
      "cell_type": "code",
      "metadata": {
        "colab": {
          "base_uri": "https://localhost:8080/"
        },
        "id": "Un5oIiMdWYeo",
        "outputId": "03f19271-1558-4727-b6be-0e6afc5463c9"
      },
      "source": [
        "from sklearn.svm import SVC\n",
        "from sklearn import svm\n",
        "model=svm.SVC(kernel='linear',C=0.1,gamma='auto',probability=True)\n",
        "model.fit(x_train,y_train)\n",
        "y_pred=model.predict(x_test)\n",
        "y_pred\n"
      ],
      "execution_count": null,
      "outputs": [
        {
          "output_type": "execute_result",
          "data": {
            "text/plain": [
              "array([0, 0, 0, 1, 0, 0, 1, 1, 0, 0, 1, 1, 1, 0, 1, 1, 0, 0])"
            ]
          },
          "metadata": {
            "tags": []
          },
          "execution_count": 15
        }
      ]
    },
    {
      "cell_type": "code",
      "metadata": {
        "colab": {
          "base_uri": "https://localhost:8080/"
        },
        "id": "JWl4tPc0GEqO",
        "outputId": "4b7141a2-ed3e-458b-fce5-3d7a79a0cae2"
      },
      "source": [
        "y_test"
      ],
      "execution_count": null,
      "outputs": [
        {
          "output_type": "execute_result",
          "data": {
            "text/plain": [
              "array([0, 0, 0, 1, 0, 0, 1, 0, 0, 1, 1, 1, 1, 0, 1, 0, 0, 0])"
            ]
          },
          "metadata": {
            "tags": []
          },
          "execution_count": 16
        }
      ]
    },
    {
      "cell_type": "code",
      "metadata": {
        "id": "SKGUL1c1GH88"
      },
      "source": [
        "from sklearn.metrics import accuracy_score,confusion_matrix"
      ],
      "execution_count": null,
      "outputs": []
    },
    {
      "cell_type": "code",
      "metadata": {
        "colab": {
          "base_uri": "https://localhost:8080/"
        },
        "id": "sEv2hqxNXa3z",
        "outputId": "ec105688-6506-4d17-8b9f-228e93d84464"
      },
      "source": [
        "confusion_matrix(y_pred,y_test)"
      ],
      "execution_count": null,
      "outputs": [
        {
          "output_type": "execute_result",
          "data": {
            "text/plain": [
              "array([[9, 1],\n",
              "       [2, 6]])"
            ]
          },
          "metadata": {
            "tags": []
          },
          "execution_count": 18
        }
      ]
    },
    {
      "cell_type": "code",
      "metadata": {
        "colab": {
          "base_uri": "https://localhost:8080/"
        },
        "id": "0dOYgY9mGPCj",
        "outputId": "f1067c12-e50d-4951-bf74-0e2be6724781"
      },
      "source": [
        "accuracy_score(y_pred,y_test)"
      ],
      "execution_count": null,
      "outputs": [
        {
          "output_type": "execute_result",
          "data": {
            "text/plain": [
              "0.8333333333333334"
            ]
          },
          "metadata": {
            "tags": []
          },
          "execution_count": 19
        }
      ]
    },
    {
      "cell_type": "code",
      "metadata": {
        "id": "qQtdeybeGcM2"
      },
      "source": [
        "import pickle\n",
        "pickle.dump(grid,open('img_model.p','wb'))"
      ],
      "execution_count": null,
      "outputs": []
    },
    {
      "cell_type": "code",
      "metadata": {
        "id": "6M0-r09GHH3B"
      },
      "source": [
        "model=pickle.load(open('img_model.p','rb'))"
      ],
      "execution_count": null,
      "outputs": []
    },
    {
      "cell_type": "code",
      "metadata": {
        "id": "ToeLs7XGHoNx",
        "colab": {
          "base_uri": "https://localhost:8080/",
          "height": 303
        },
        "outputId": "c73de44c-73c0-4858-ece2-255adab798c5"
      },
      "source": [
        "flat_data=[]\n",
        "url=input('Enter your URL')\n",
        "img=imread(url)\n",
        "img_resized=resize(img,(150,150,3))\n",
        "flat_data.append(img_resized.flatten())\n",
        "flat_data=np.array(flat_data)\n",
        "plt.imshow(img_resized)\n",
        "y_out=model.predict(flat_data)\n",
        "y_out=CATEGORIES[y_out[0]]\n",
        "print(f'PREDICTED OUTPUT:{y_out}')"
      ],
      "execution_count": null,
      "outputs": [
        {
          "output_type": "stream",
          "text": [
            "Enter your URLhttps://encrypted-tbn0.gstatic.com/images?q=tbn:ANd9GcQHkJXVSBPJdaWbdLsuhaLihXelpl5aMdlUYw&usqp=CAU\n",
            "PREDICTED OUTPUT:Lilly\n"
          ],
          "name": "stdout"
        },
        {
          "output_type": "display_data",
          "data": {
            "image/png": "[encoded data removed]",
            "text/plain": [
              "<Figure size 432x288 with 1 Axes>"
            ]
          },
          "metadata": {
            "tags": [],
            "needs_background": "light"
          }
        }
      ]
    },
    {
      "cell_type": "code",
      "metadata": {
        "id": "ZyCYKNy6WirO"
      },
      "source": [
        "#https://encrypted-tbn0.gstatic.com/images?q=tbn:ANd9GcQHkJXVSBPJdaWbdLsuhaLihXelpl5aMdlUYw&usqp=CAU"
      ],
      "execution_count": null,
      "outputs": []
    },
    {
      "cell_type": "code",
      "metadata": {
        "id": "ebMnaoD0_m4Y",
        "colab": {
          "base_uri": "https://localhost:8080/"
        },
        "outputId": "171d6d37-53b4-4e18-fbdc-1951e7b8beab"
      },
      "source": [
        "!pip install streamlit --quiet\n",
        "!pip install pyngrok==4.1.1 --quiet\n",
        "from pyngrok import ngrok\n"
      ],
      "execution_count": null,
      "outputs": [
        {
          "output_type": "stream",
          "text": [
            "\u001b[K     |████████████████████████████████| 8.2MB 12.8MB/s \n",
            "\u001b[K     |████████████████████████████████| 4.2MB 49.8MB/s \n",
            "\u001b[K     |████████████████████████████████| 174kB 65.1MB/s \n",
            "\u001b[K     |████████████████████████████████| 92kB 9.5MB/s \n",
            "\u001b[K     |████████████████████████████████| 81kB 8.0MB/s \n",
            "\u001b[K     |████████████████████████████████| 112kB 81.2MB/s \n",
            "\u001b[K     |████████████████████████████████| 122kB 71.2MB/s \n",
            "\u001b[K     |████████████████████████████████| 71kB 7.1MB/s \n",
            "\u001b[?25h  Building wheel for blinker (setup.py) ... \u001b[?25l\u001b[?25hdone\n",
            "\u001b[31mERROR: google-colab 1.0.0 has requirement ipykernel~=4.10, but you'll have ipykernel 5.5.5 which is incompatible.\u001b[0m\n",
            "  Building wheel for pyngrok (setup.py) ... \u001b[?25l\u001b[?25hdone\n"
          ],
          "name": "stdout"
        }
      ]
    },
    {
      "cell_type": "code",
      "metadata": {
        "id": "U0qJ8QnWA_U6",
        "colab": {
          "base_uri": "https://localhost:8080/"
        },
        "outputId": "5580de54-b2a6-45c2-bf2b-d8c5ad8a7108"
      },
      "source": [
        "#Deployment\n",
        "%%writefile app.py\n",
        "import streamlit as st\n",
        "#import os\n",
        "#import matplotlib.pyplot as plt\n",
        "import numpy as np\n",
        "from skimage.io import imread\n",
        "from skimage.transform import resize\n",
        "import pickle\n",
        "from PIL import Image\n",
        "st.title('Image Classifier using Classifier')\n",
        "st.text('Upload the image')\n",
        "\n",
        "model=pickle.load(open('img_model.p','rb'))\n",
        "\n",
        "uploaded_file=st.file_uploader(\"choose an image...\",type=\"jpg\")\n",
        "if uploaded_file is not None:\n",
        "  img=Image.open(uploaded_file)\n",
        "  st.image(img,caption='Uploaded Image')\n",
        "\n",
        "  if st.button('PREDICT'):\n",
        "    CATEGORIES=['Rose','Lilly']\n",
        "    st.write('Result...')\n",
        "    flat_data=[]\n",
        "    img=np.array(img)\n",
        "    img_resized=resize(img,(150,150,3))\n",
        "    flat_data.append(img_resized.flatten())\n",
        "    flat_data=np.array(flat_data)\n",
        "    y_out=model.predict(flat_data)\n",
        "    y_out=CATEGORIES[y_out[0]]\n",
        "    st.title(f'PREDICTED OUTPUT:{y_out}')\n",
        "  q=model.predict_proba(flat_data)\n",
        "  for index,item in enumerate(CATEGORIES):\n",
        "    st.write(f'{item}:{q[0][index]*100}%')"
      ],
      "execution_count": null,
      "outputs": [
        {
          "output_type": "stream",
          "text": [
            "Writing app.py\n"
          ],
          "name": "stdout"
        }
      ]
    },
    {
      "cell_type": "code",
      "metadata": {
        "id": "pzx-L7lqB4yv",
        "colab": {
          "base_uri": "https://localhost:8080/"
        },
        "outputId": "be5e16d5-3d0f-4b84-bdbe-c8d913081c87"
      },
      "source": [
        "!nohup streamlit run app.py &\n",
        "url=ngrok.connect(port='8501')\n",
        "print(url)"
      ],
      "execution_count": null,
      "outputs": [
        {
          "output_type": "stream",
          "text": [
            "nohup: appending output to 'nohup.out'\n",
            "http://abe273430aea.ngrok.io\n"
          ],
          "name": "stdout"
        }
      ]
    }
  ]
}